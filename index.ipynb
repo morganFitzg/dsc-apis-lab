{
 "cells": [
  {
   "cell_type": "markdown",
   "metadata": {},
   "source": [
    "# APIs - Cumulative Lab\n",
    "\n",
    "\n",
    "## Introduction \n",
    "\n",
    "We've seen how the Yelp API works and how to create basic visualizations using Folium. It's time to put those skills to work in order to create a working map! Taking things a step further, you'll also independently explore how to perform pagination in order to retrieve a full results set from the Yelp API.\n",
    "\n",
    "## Objectives\n",
    "\n",
    "You will be able to: \n",
    "\n",
    "* Practice using functions to organize your code\n",
    "* Use pagination to retrieve all results from an API query\n",
    "* Practice parsing data returned from an API query\n",
    "* Practice interpreting visualizations of a dataset\n",
    "* Create maps using Folium"
   ]
  },
  {
   "cell_type": "markdown",
   "metadata": {},
   "source": [
    "## Your Task: Query Yelp for All Businesses in a Category and Analyze the Results\n",
    "\n",
    "![restaurant counter with pizza](images/restaurant_counter.jpg)\n",
    "\n",
    "Photo by <a href=\"https://unsplash.com/@jordanmadrid?utm_source=unsplash&utm_medium=referral&utm_content=creditCopyText\">Jordan Madrid</a> on <a href=\"/s/photos/pizza-restaurant?utm_source=unsplash&utm_medium=referral&utm_content=creditCopyText\">Unsplash</a>"
   ]
  },
  {
   "cell_type": "markdown",
   "metadata": {},
   "source": [
    "### Overview\n",
    "\n",
    "You've now worked with some API calls, but we have yet to see how to retrieve a more complete dataset in a programmatic manner. In this lab, you will write a query of businesses on Yelp, then use *pagination* to retrieve all possible results for that query. Then you will create a summary of your findings, including a Folium map of the geographic locations of those businesses.\n",
    "\n",
    "### Technical Details\n",
    "\n",
    "Returning to the Yelp API, the [documentation](https://www.yelp.com/developers/documentation/v3/business_search) also provides us details regarding the **API limits**. These often include details about the number of requests a user is allowed to make within a specified time limit and the maximum number of results to be returned. In this case, we are told that any request has a **maximum of 50 results per request** and defaults to 20. Furthermore, any search will be limited to a **total of 1000 results**. To retrieve all 1000 of these results, we would have to page through the results piece by piece, retrieving 50 at a time. Processes such as these are often referred to as pagination.\n",
    "\n",
    "Also, be mindful of the **API** ***rate*** **limits**. You can only make **5000 requests per day** and are also can make requests too fast. Start prototyping small before running a loop that could be faulty. You can also use `time.sleep(n)` to add delays. For more details see https://www.yelp.com/developers/documentation/v3/rate_limiting.\n",
    "\n",
    "In this lab, you will define a search and then paginate over the results to retrieve all of the results. You'll then parse these responses as a list of dictionaries (for further exploration) and create a map using Folium to visualize the results geographically.\n",
    "\n",
    "### Requirements\n",
    "\n",
    "#### 1. Make the Initial Request\n",
    "\n",
    "Start by filling in your API key to make the initial request to the business search API. Investigate the structure of the response you get back and start figuring out how you will extract the relevant information.\n",
    "\n",
    "#### 2. Add Pagination\n",
    "\n",
    "Using loops and functions, collect the maximum number of results for your query from the API.\n",
    "\n",
    "#### 3. Perform Exploratory Analysis\n",
    "\n",
    "Interpret visualizations related to the price range, average rating, and number of reviews for all query results.\n",
    "\n",
    "#### 4. Create a Folium Map\n",
    "\n",
    "Using latitude and longitude data, plot the query results on an interactive map."
   ]
  },
  {
   "cell_type": "markdown",
   "metadata": {},
   "source": [
    "## 1. Make the Initial Request\n",
    "\n",
    "### Querying\n",
    "\n",
    "Start by making an initial request to the Yelp API. Your search must include at least 2 parameters: **term** and **location**. For example, you might search for pizza restaurants in NYC. The term and location is up to you but make the request below.\n",
    "\n",
    "Use the `requests` library ([documentation here](https://requests.readthedocs.io/en/master/user/quickstart/#make-a-request)).\n",
    "\n",
    "You'll also need an API key from Yelp. If you haven't done this already, go to the Yelp [Manage App page](https://www.yelp.com/developers/v3/manage_app) and create a new app (after making an account if you haven't already)."
   ]
  },
  {
   "cell_type": "code",
   "execution_count": 2,
   "metadata": {},
   "outputs": [],
   "source": [
    "import json\n",
    "\n",
    "#Our previous function for loading our api key file\n",
    "def get_keys(path):\n",
    "    with open(path) as f:\n",
    "        return json.load(f)"
   ]
  },
  {
   "cell_type": "code",
   "execution_count": 3,
   "metadata": {},
   "outputs": [
    {
     "data": {
      "text/plain": [
       "200"
      ]
     },
     "execution_count": 3,
     "metadata": {},
     "output_type": "execute_result"
    }
   ],
   "source": [
    "# Replace None with appropriate code\n",
    "\n",
    "# Import the requests library\n",
    "import requests\n",
    "\n",
    "# Get this from the \"Manage App\" page. Make sure you set them\n",
    "# back to None before pushing this to GitHub, since otherwise\n",
    "# your credentials will be compromised\n",
    "keys = get_keys(\"/Users/morgandj/.secret/creds.json\")\n",
    "api_key = keys['key']\n",
    "\n",
    "# These can be whatever you want! But the solution uses \"pizza\"\n",
    "# and \"New York NY\" if you want to compare your work directly\n",
    "term = 'Five Guys'\n",
    "location = 'California'\n",
    "\n",
    "# Set up params for request\n",
    "url = \"https://api.yelp.com/v3/businesses/search\"\n",
    "headers = {\n",
    "    \"Authorization\": \"Bearer {}\".format(api_key)\n",
    "}\n",
    "url_params = {\n",
    "    \"term\": term.replace(\" \", \"+\"),\n",
    "    \"location\": location.replace(\" \", \"+\")\n",
    "}\n",
    "\n",
    "# Make the request using requests.get, passing in\n",
    "# url, headers=headers, and params=url_params\n",
    "response = requests.get(url,headers=headers,params=url_params)\n",
    "\n",
    "# Confirm we got a 200 response\n",
    "response.status_code"
   ]
  },
  {
   "cell_type": "code",
   "execution_count": 4,
   "metadata": {},
   "outputs": [
    {
     "data": {
      "text/plain": [
       "dict_keys(['businesses', 'total', 'region'])"
      ]
     },
     "execution_count": 4,
     "metadata": {},
     "output_type": "execute_result"
    }
   ],
   "source": [
    "# Run this cell without changes\n",
    "\n",
    "# Get the response body in JSON format\n",
    "response_json = response.json()\n",
    "# View the keys\n",
    "response_json.keys()"
   ]
  },
  {
   "cell_type": "markdown",
   "metadata": {},
   "source": [
    "### Extracting Data\n",
    "\n",
    "Now, retrieve the value associated with the `'businesses'` key, and inspect its contents."
   ]
  },
  {
   "cell_type": "code",
   "execution_count": 5,
   "metadata": {},
   "outputs": [
    {
     "data": {
      "text/plain": [
       "[{'id': '6GKRJYN61js376o-hCA7JA',\n",
       "  'alias': 'five-guys-fresno',\n",
       "  'name': 'Five Guys',\n",
       "  'image_url': 'https://s3-media1.fl.yelpcdn.com/bphoto/pkS76UVLWe8on0-VJ6neIw/o.jpg',\n",
       "  'is_closed': False,\n",
       "  'url': 'https://www.yelp.com/biz/five-guys-fresno?adjust_creative=dN0dsNmVz02-ZyWfXXBO1A&utm_campaign=yelp_api_v3&utm_medium=api_v3_business_search&utm_source=dN0dsNmVz02-ZyWfXXBO1A',\n",
       "  'review_count': 74,\n",
       "  'categories': [{'alias': 'burgers', 'title': 'Burgers'},\n",
       "   {'alias': 'sandwiches', 'title': 'Sandwiches'},\n",
       "   {'alias': 'hotdogs', 'title': 'Fast Food'}],\n",
       "  'rating': 3.5,\n",
       "  'coordinates': {'latitude': 36.834586, 'longitude': -119.910471},\n",
       "  'transactions': ['delivery'],\n",
       "  'price': '$$',\n",
       "  'location': {'address1': '6623 Riverside Dr',\n",
       "   'address2': '',\n",
       "   'address3': '',\n",
       "   'city': 'Fresno',\n",
       "   'zip_code': '93722',\n",
       "   'country': 'US',\n",
       "   'state': 'CA',\n",
       "   'display_address': ['6623 Riverside Dr', 'Fresno, CA 93722']},\n",
       "  'phone': '+15596500464',\n",
       "  'display_phone': '(559) 650-0464',\n",
       "  'distance': 72023.27780517311},\n",
       " {'id': 'c89QuUqovIfh-nGcpfdrFQ',\n",
       "  'alias': 'five-guys-clovis-3',\n",
       "  'name': 'Five Guys',\n",
       "  'image_url': 'https://s3-media3.fl.yelpcdn.com/bphoto/Mh6z7cAwgHfg_X_VHlgeJg/o.jpg',\n",
       "  'is_closed': False,\n",
       "  'url': 'https://www.yelp.com/biz/five-guys-clovis-3?adjust_creative=dN0dsNmVz02-ZyWfXXBO1A&utm_campaign=yelp_api_v3&utm_medium=api_v3_business_search&utm_source=dN0dsNmVz02-ZyWfXXBO1A',\n",
       "  'review_count': 63,\n",
       "  'categories': [{'alias': 'burgers', 'title': 'Burgers'},\n",
       "   {'alias': 'hotdogs', 'title': 'Fast Food'},\n",
       "   {'alias': 'sandwiches', 'title': 'Sandwiches'}],\n",
       "  'rating': 2.5,\n",
       "  'coordinates': {'latitude': 36.8371639, 'longitude': -119.6825278},\n",
       "  'transactions': ['delivery'],\n",
       "  'price': '$$',\n",
       "  'location': {'address1': '1840 Herndon Ave',\n",
       "   'address2': 'Bldg B, Ste 105',\n",
       "   'address3': None,\n",
       "   'city': 'Clovis',\n",
       "   'zip_code': '93611',\n",
       "   'country': 'US',\n",
       "   'state': 'CA',\n",
       "   'display_address': ['1840 Herndon Ave',\n",
       "    'Bldg B, Ste 105',\n",
       "    'Clovis, CA 93611']},\n",
       "  'phone': '+15593212002',\n",
       "  'display_phone': '(559) 321-2002',\n",
       "  'distance': 58300.01860188716}]"
      ]
     },
     "execution_count": 5,
     "metadata": {},
     "output_type": "execute_result"
    }
   ],
   "source": [
    "# Replace None with appropriate code\n",
    "\n",
    "# Retrieve the value from response_json\n",
    "businesses = response_json['businesses']\n",
    "\n",
    "# View the first 2 records\n",
    "businesses[:2]"
   ]
  },
  {
   "cell_type": "markdown",
   "metadata": {},
   "source": [
    "### Preparing Data\n",
    "\n",
    "Write a function `prepare_data` that takes in a list of dictionaries like `businesses` and returns a copy that has been prepared for analysis:\n",
    "\n",
    "1. The `coordinates` key-value pair has been converted into two separate key-value pairs, `latitude` and `longitude`\n",
    "2. All other key-value pairs except for `name`, `review_count`, `rating`, and `price` have been dropped\n",
    "3. All dictionaries missing one of the relevant keys or containing null values have been dropped\n",
    "\n",
    "In other words, the final keys for each dictionary should be `name`, `review_count`, `rating`, `price`, `latitude`, and `longitude`.\n",
    "\n",
    "Complete the function in the cell below:"
   ]
  },
  {
   "cell_type": "code",
   "execution_count": 7,
   "metadata": {},
   "outputs": [
    {
     "data": {
      "text/plain": [
       "[{'name': 'Five Guys',\n",
       "  'review_count': 74,\n",
       "  'rating': 3.5,\n",
       "  'price': '$$',\n",
       "  'latitude': 36.834586,\n",
       "  'longitude': -119.910471,\n",
       "  'state': 'CA'},\n",
       " {'name': 'Five Guys',\n",
       "  'review_count': 63,\n",
       "  'rating': 2.5,\n",
       "  'price': '$$',\n",
       "  'latitude': 36.8371639,\n",
       "  'longitude': -119.6825278,\n",
       "  'state': 'CA'},\n",
       " {'name': 'Five Guys',\n",
       "  'review_count': 186,\n",
       "  'rating': 3.0,\n",
       "  'price': '$$',\n",
       "  'latitude': 36.8494784,\n",
       "  'longitude': -119.7881011,\n",
       "  'state': 'CA'},\n",
       " {'name': 'Five Guys',\n",
       "  'review_count': 84,\n",
       "  'rating': 3.0,\n",
       "  'price': '$$',\n",
       "  'latitude': 37.331530464560096,\n",
       "  'longitude': -120.46671211717928,\n",
       "  'state': 'CA'},\n",
       " {'name': 'Five Guys',\n",
       "  'review_count': 32,\n",
       "  'rating': 4.5,\n",
       "  'price': '$$',\n",
       "  'latitude': 36.3250627,\n",
       "  'longitude': -119.6726021,\n",
       "  'state': 'CA'}]"
      ]
     },
     "execution_count": 7,
     "metadata": {},
     "output_type": "execute_result"
    }
   ],
   "source": [
    "# Replace None with appropriate code\n",
    "\n",
    "def prepare_data(data_list):\n",
    "    \"\"\"\n",
    "    This function takes in a list of dictionaries and prepares it\n",
    "    for analysis\n",
    "    \"\"\"\n",
    "    \n",
    "    # Make a new list to hold results\n",
    "    results = []\n",
    "    \n",
    "    for business_data in data_list:\n",
    "    \n",
    "        # Make a new dictionary to hold prepared data for this business\n",
    "        prepared_data = {}\n",
    "        \n",
    "        # Extract name, review_count, rating, and price key-value pairs\n",
    "        # from business_data and add to prepared_data\n",
    "        # If a key is not present in business_data, add it to prepared_data\n",
    "        # with an associated value of None\n",
    "        bus_keys=business_data.keys()\n",
    "        keys=['name','review_count','rating','price']\n",
    "        for k in keys:\n",
    "            if k in bus_keys:\n",
    "                prepared_data[k]=business_data[k]\n",
    "            else:\n",
    "                prepared_data[k]=None\n",
    "    \n",
    "        # Parse and add latitude and longitude columns\n",
    "        if 'coordinates' in bus_keys:\n",
    "            coords=business_data['coordinates']\n",
    "            prepared_data['latitude']=coords['latitude']\n",
    "            prepared_data['longitude']=coords['longitude']\n",
    "        else:\n",
    "            prepared_data['latitude']=None\n",
    "            prepared_data['longitude']=None\n",
    "            \n",
    "        #Add state for my own analysis\n",
    "        if 'location' in bus_keys:\n",
    "            prepared_data['state']=business_data['location']['state']\n",
    "        else:\n",
    "            prepared_data['state']=None\n",
    "        \n",
    "        # Add to list if all values are present\n",
    "        if all(prepared_data.values()):\n",
    "            results.append(prepared_data)\n",
    "    \n",
    "    return results\n",
    "    \n",
    "# Test out function\n",
    "prepared_businesses = prepare_data(businesses)\n",
    "prepared_businesses[:5]"
   ]
  },
  {
   "cell_type": "markdown",
   "metadata": {},
   "source": [
    "Check that your function created the correct keys:"
   ]
  },
  {
   "cell_type": "code",
   "execution_count": 8,
   "metadata": {},
   "outputs": [],
   "source": [
    "# Run this cell without changes\n",
    "\n",
    "assert sorted(list(prepared_businesses[0].keys())) == ['latitude', 'longitude', 'name', 'price', 'rating', 'review_count','state']"
   ]
  },
  {
   "cell_type": "markdown",
   "metadata": {},
   "source": [
    "The following code will differ depending on your query, but we expect there to be 20 businesses in the original list, and potentially fewer in the prepared list (if any of them were missing data):"
   ]
  },
  {
   "cell_type": "code",
   "execution_count": 9,
   "metadata": {},
   "outputs": [
    {
     "name": "stdout",
     "output_type": "stream",
     "text": [
      "Original: 20\n",
      "Prepared: 17\n"
     ]
    }
   ],
   "source": [
    "# Run this cell without changes\n",
    "print(\"Original:\", len(businesses))\n",
    "print(\"Prepared:\", len(prepared_businesses))"
   ]
  },
  {
   "cell_type": "markdown",
   "metadata": {},
   "source": [
    "Great! We will reuse this function once we have retrieved the full dataset."
   ]
  },
  {
   "cell_type": "markdown",
   "metadata": {},
   "source": [
    "## 2. Add Pagination\n",
    "\n",
    "Now that you are able to extract information from one page of the response, let's figure out how to request as many pages as possible.\n",
    "\n",
    "### Determining the Total\n",
    "\n",
    "Depending on the number of total results for your query, you will either retrieve all of the results, or just the first 1000 (if there are more than 1000 total).\n",
    "\n",
    "We can find the total number of results using the `\"total\"` key:"
   ]
  },
  {
   "cell_type": "code",
   "execution_count": 10,
   "metadata": {},
   "outputs": [
    {
     "data": {
      "text/plain": [
       "405"
      ]
     },
     "execution_count": 10,
     "metadata": {},
     "output_type": "execute_result"
    }
   ],
   "source": [
    "# Run this cell without changes\n",
    "response_json[\"total\"]"
   ]
  },
  {
   "cell_type": "markdown",
   "metadata": {},
   "source": [
    "(This is specific to the implementation of the Yelp API. Some APIs will just tell you that there are more pages, or will tell you the number of pages total, rather than the total number of results. If you're not sure, always check the documentation.)\n",
    "\n",
    "In the cell below, assign the variable `total` to either the value shown above (if it is less than 1000), or 1000."
   ]
  },
  {
   "cell_type": "code",
   "execution_count": 17,
   "metadata": {},
   "outputs": [],
   "source": [
    "# Replace None with appropriate code\n",
    "total = 405"
   ]
  },
  {
   "cell_type": "markdown",
   "metadata": {},
   "source": [
    "### Calculating the Offsets\n",
    "\n",
    "The documentation states in the parameters section:\n",
    "\n",
    "> **Name**: `limit`, **Type:** int, **Description:** Optional. Number of business results to return. By default, it will return 20. Maximum is 50.\n",
    "\n",
    "> **Name**: `offset`, **Type:** int, **Description:** Optional. Offset the list of returned business results by this amount.\n",
    "\n",
    "So, to get the most results with the fewest API calls we want to set a limit of 50 every time. If, say, we wanted to get 210 total results, that would mean:\n",
    "\n",
    "1. Offset of `0` (first 50 records)\n",
    "2. Offset of `50` (second 50 records)\n",
    "3. Offset of `100` (third 50 records)\n",
    "4. Offset of `150` (fourth 50 records)\n",
    "5. Offset of `200` (final 10 records)\n",
    "\n",
    "In the cell below, create a function `get_offsets` that takes in a total and returns a list of offsets for that total. You can assume that there is a limit of 50 every time.\n",
    "\n",
    "*Hint: you can use `range` ([documentation here](https://docs.python.org/3.3/library/stdtypes.html?highlight=range#range)) to do this in one line of code. Just make the returned result is a list.*"
   ]
  },
  {
   "cell_type": "code",
   "execution_count": 12,
   "metadata": {},
   "outputs": [],
   "source": [
    "# Replace None with appropriate code\n",
    "def get_offsets(total):\n",
    "    \"\"\"\n",
    "    Get a list of offsets needed to get all pages\n",
    "    of data up until the total\n",
    "    \"\"\"\n",
    "    return list(range(0,total,50))"
   ]
  },
  {
   "cell_type": "markdown",
   "metadata": {},
   "source": [
    "Check that your function works below:"
   ]
  },
  {
   "cell_type": "code",
   "execution_count": 13,
   "metadata": {},
   "outputs": [],
   "source": [
    "# Run this cell without changes\n",
    "\n",
    "assert get_offsets(200) == [0, 50, 100, 150]\n",
    "assert get_offsets(210) == [0, 50, 100, 150, 200]"
   ]
  },
  {
   "cell_type": "markdown",
   "metadata": {},
   "source": [
    "### Putting It All Together\n",
    "\n",
    "Recall that the following variable has already been declared for you:"
   ]
  },
  {
   "cell_type": "code",
   "execution_count": 14,
   "metadata": {},
   "outputs": [
    {
     "data": {
      "text/plain": [
       "{'term': 'Five+Guys', 'location': 'California'}"
      ]
     },
     "execution_count": 14,
     "metadata": {},
     "output_type": "execute_result"
    }
   ],
   "source": [
    "# Run this cell without changes\n",
    "url_params"
   ]
  },
  {
   "cell_type": "markdown",
   "metadata": {},
   "source": [
    "We'll go ahead and also specify that the limit should be 50 every time:"
   ]
  },
  {
   "cell_type": "code",
   "execution_count": 15,
   "metadata": {},
   "outputs": [],
   "source": [
    "# Run this cell without changes\n",
    "url_params[\"limit\"] = 50"
   ]
  },
  {
   "cell_type": "markdown",
   "metadata": {},
   "source": [
    "In order to modify the offset, you'll need to add it to `url_params` with the key `\"offset\"` and whatever value is needed.\n",
    "\n",
    "In the cell below, write code that:\n",
    "\n",
    "* Creates an empty list for the full prepared dataset\n",
    "* Loops over all of the offsets from `get_offsets` and makes an API call each time with the specified offset\n",
    "* Calls `prepare_data` to get a cleaned version of the result of each API call\n",
    "* Extends the full prepared dataset list with each query's prepared dataset"
   ]
  },
  {
   "cell_type": "code",
   "execution_count": 18,
   "metadata": {},
   "outputs": [
    {
     "data": {
      "text/plain": [
       "365"
      ]
     },
     "execution_count": 18,
     "metadata": {},
     "output_type": "execute_result"
    }
   ],
   "source": [
    "# Replace None with appropriate code\n",
    "\n",
    "# Create an empty list for the full prepared dataset\n",
    "full_dataset = []\n",
    "\n",
    "for offset in get_offsets(total):\n",
    "    # Add or update the \"offset\" key-value pair in url_params\n",
    "    url_params['offset']=offset\n",
    "    \n",
    "    # Make the query and get the response\n",
    "    response = requests.get(url, headers=headers, params=url_params)\n",
    "    \n",
    "    # Get the response body in JSON format\n",
    "    response_json = response.json()\n",
    "    \n",
    "    # Get the list of businesses from the response_json\n",
    "    businesses = response_json['businesses']\n",
    "    \n",
    "    # Call the prepare_data function to get a list of processed data\n",
    "    prepared_businesses = prepare_data(businesses)\n",
    "    \n",
    "    # Extend full_dataset with this list (don't append, or you'll get\n",
    "    # a list of lists instead of a flat list)\n",
    "    full_dataset.extend(prepared_businesses)\n",
    "\n",
    "# Check the length of the full dataset. It will be up to `total`,\n",
    "# potentially less if there were missing values\n",
    "len(full_dataset)"
   ]
  },
  {
   "cell_type": "markdown",
   "metadata": {},
   "source": [
    "This code may take up to a few minutes to run.\n",
    "\n",
    "If you get an error trying to get the response body in JSON format, try adding `time.sleep(1)` right after the `requests.get` line, so your code will sleep for 1 second between each API call."
   ]
  },
  {
   "cell_type": "markdown",
   "metadata": {},
   "source": [
    "## 3. Perform Exploratory Analysis\n",
    "\n",
    "Take the businesses from the previous question and do an initial exploratory analysis. We have provided some plots for you to interpret:"
   ]
  },
  {
   "cell_type": "code",
   "execution_count": 19,
   "metadata": {},
   "outputs": [
    {
     "data": {
      "image/png": "[encoded data removed]",
      "text/plain": [
       "<Figure size 1152x360 with 3 Axes>"
      ]
     },
     "metadata": {
      "needs_background": "light"
     },
     "output_type": "display_data"
    }
   ],
   "source": [
    "# Run this cell without changes\n",
    "from collections import Counter\n",
    "import matplotlib.pyplot as plt\n",
    "%matplotlib inline\n",
    "\n",
    "fig, (ax1, ax2, ax3) = plt.subplots(ncols=3, figsize=(16, 5))\n",
    "\n",
    "# Plot distribution of number of reviews\n",
    "all_review_counts = [x[\"review_count\"] for x in full_dataset]\n",
    "ax1.hist(all_review_counts)\n",
    "ax1.set_title(\"Review Count Distribution\")\n",
    "ax1.set_xlabel(\"Number of Reviews\")\n",
    "ax1.set_ylabel(\"Number of Businesses\")\n",
    "\n",
    "# Plot rating distribution\n",
    "all_ratings = [x[\"rating\"] for x in full_dataset]\n",
    "rating_counter = Counter(all_ratings)\n",
    "rating_keys = sorted(rating_counter.keys())\n",
    "ax2.bar(rating_keys, [rating_counter[key] for key in rating_keys])\n",
    "ax2.set_title(\"Rating Distribution\")\n",
    "ax2.set_xlabel(\"Rating\")\n",
    "ax2.set_ylabel(\"Number of Businesses\")\n",
    "\n",
    "# Plot price distribution\n",
    "all_prices = [x[\"price\"].replace(\"$\", r\"\\$\") for x in full_dataset]\n",
    "price_counter = Counter(all_prices)\n",
    "price_keys = sorted(price_counter.keys())\n",
    "ax3.bar(price_keys, [price_counter[key] for key in price_keys])\n",
    "ax3.set_title(\"Price Distribution\")\n",
    "ax3.set_xlabel(\"Price Category\")\n",
    "ax3.set_ylabel(\"Number of Businesses\");"
   ]
  },
  {
   "cell_type": "code",
   "execution_count": 20,
   "metadata": {},
   "outputs": [],
   "source": [
    "import pandas as pd"
   ]
  },
  {
   "cell_type": "code",
   "execution_count": 21,
   "metadata": {},
   "outputs": [
    {
     "name": "stdout",
     "output_type": "stream",
     "text": [
      "<class 'pandas.core.frame.DataFrame'>\n",
      "RangeIndex: 365 entries, 0 to 364\n",
      "Data columns (total 7 columns):\n",
      " #   Column        Non-Null Count  Dtype  \n",
      "---  ------        --------------  -----  \n",
      " 0   name          365 non-null    object \n",
      " 1   review_count  365 non-null    int64  \n",
      " 2   rating        365 non-null    float64\n",
      " 3   price         365 non-null    object \n",
      " 4   latitude      365 non-null    float64\n",
      " 5   longitude     365 non-null    float64\n",
      " 6   state         365 non-null    object \n",
      "dtypes: float64(3), int64(1), object(3)\n",
      "memory usage: 20.1+ KB\n"
     ]
    }
   ],
   "source": [
    "df=pd.DataFrame(full_dataset)\n",
    "df.info()"
   ]
  },
  {
   "cell_type": "code",
   "execution_count": 22,
   "metadata": {},
   "outputs": [
    {
     "data": {
      "text/plain": [
       "McDonald's                 14\n",
       "Carl's Jr                  10\n",
       "Denny's                     9\n",
       "Subway                      9\n",
       "Five Guys                   8\n",
       "                           ..\n",
       "Hungry Hut                  1\n",
       "Shorthorn Bar and Grill     1\n",
       "More Than Pizza             1\n",
       "Riley's Brew Pub            1\n",
       "Farmer Boys                 1\n",
       "Name: name, Length: 240, dtype: int64"
      ]
     },
     "execution_count": 22,
     "metadata": {},
     "output_type": "execute_result"
    }
   ],
   "source": [
    "df['name'].value_counts()"
   ]
  },
  {
   "cell_type": "code",
   "execution_count": 23,
   "metadata": {},
   "outputs": [
    {
     "data": {
      "text/plain": [
       "CA    364\n",
       "MS      1\n",
       "Name: state, dtype: int64"
      ]
     },
     "execution_count": 23,
     "metadata": {},
     "output_type": "execute_result"
    }
   ],
   "source": [
    "df['state'].value_counts()"
   ]
  },
  {
   "cell_type": "markdown",
   "metadata": {},
   "source": [
    "Describe the distributions displayed above and interpret them in the context of your query. (Your answer may differ from the solution branch depending on your query.)"
   ]
  },
  {
   "cell_type": "code",
   "execution_count": null,
   "metadata": {},
   "outputs": [],
   "source": [
    "# Replace None with appropriate text\n",
    "\"\"\"\n",
    "Interesting that only 8 of the 365 restaurants are actually Five Guys when \n",
    "I used the term paramenter 'Five Guys'. Number of reviews has a right skew.\n",
    "Ratings has a weak left skew and price distribution has a right skew.  Ratings\n",
    " appear to be centered around 4.0 and it is not surprising that few restaurants \n",
    " receive more than 500 reviews.  Would be interesting to see if the restaurants \n",
    " with more than 500 reviews have higher ratings overall.\n",
    "\"\"\""
   ]
  },
  {
   "cell_type": "markdown",
   "metadata": {},
   "source": [
    "In the cell below, we also plot the rating distributions by price. In this setup, a price of one dollar sign is \"lower price\" and everything else is \"higher price\"."
   ]
  },
  {
   "cell_type": "code",
   "execution_count": 24,
   "metadata": {},
   "outputs": [
    {
     "data": {
      "image/png": "[encoded data removed]",
      "text/plain": [
       "<Figure size 432x288 with 1 Axes>"
      ]
     },
     "metadata": {
      "needs_background": "light"
     },
     "output_type": "display_data"
    }
   ],
   "source": [
    "# Run this cell without changes\n",
    "\n",
    "higher_price = []\n",
    "lower_price = []\n",
    "for row in full_dataset:\n",
    "    if row[\"price\"] == \"$\":\n",
    "        lower_price.append(row[\"rating\"])\n",
    "    else:\n",
    "        higher_price.append(row[\"rating\"])\n",
    "        \n",
    "fig, ax = plt.subplots()\n",
    "\n",
    "ax.hist([higher_price, lower_price], label=[\"higher price\", \"lower price\"], density=True)\n",
    "\n",
    "ax.legend();"
   ]
  },
  {
   "cell_type": "markdown",
   "metadata": {},
   "source": [
    "Is a higher price associated with a higher rating? (No need for any additional math/statistics, just interpret what you see in the plot.)"
   ]
  },
  {
   "cell_type": "code",
   "execution_count": null,
   "metadata": {},
   "outputs": [],
   "source": [
    "# Replace None with appropriate text\n",
    "\"\"\"\n",
    "Yes, it does appear to be associated.\n",
    "\"\"\""
   ]
  },
  {
   "cell_type": "markdown",
   "metadata": {},
   "source": [
    "Finally, let's look at ratings vs. review counts:"
   ]
  },
  {
   "cell_type": "code",
   "execution_count": 25,
   "metadata": {},
   "outputs": [
    {
     "data": {
      "image/png": "[encoded data removed]",
      "text/plain": [
       "<Figure size 1152x360 with 1 Axes>"
      ]
     },
     "metadata": {
      "needs_background": "light"
     },
     "output_type": "display_data"
    }
   ],
   "source": [
    "# Run this cell without changes\n",
    "fig, ax = plt.subplots(figsize=(16,5))\n",
    "\n",
    "ax.scatter(all_review_counts, all_ratings, alpha=0.2)\n",
    "ax.set_xlabel(\"Number of Reviews\")\n",
    "ax.set_ylabel(\"Rating\")\n",
    "# \"zoom in\" to a subset of review counts\n",
    "ax.set_xlim(left=0, right=1000);"
   ]
  },
  {
   "cell_type": "markdown",
   "metadata": {},
   "source": [
    "Is a higher number of reviews associated with a higher rating?"
   ]
  },
  {
   "cell_type": "code",
   "execution_count": null,
   "metadata": {},
   "outputs": [],
   "source": [
    "# Replace None with appropriate text\n",
    "\"\"\"\n",
    "Yes, all of the lowest ratings (<2.0) have less than 200 reviews.\n",
    "\"\"\""
   ]
  },
  {
   "cell_type": "markdown",
   "metadata": {},
   "source": [
    "## 4. Create a Folium Map\n",
    "\n",
    "Make a map using Folium of the businesses you retrieved. Be sure to also add popups to the markers giving some basic information such as name, rating and price.\n",
    "\n",
    "You can center the map around the latitude and longitude of the first item in `full_dataset`."
   ]
  },
  {
   "cell_type": "code",
   "execution_count": 27,
   "metadata": {},
   "outputs": [
    {
     "name": "stdout",
     "output_type": "stream",
     "text": [
      "-119.3060302734375\n"
     ]
    }
   ],
   "source": [
    "print(response_json['region']['center']['longitude'])"
   ]
  },
  {
   "cell_type": "code",
   "execution_count": 29,
   "metadata": {},
   "outputs": [
    {
     "data": {
      "text/html": [
       "<div style=\"width:100%;\"><div style=\"position:relative;width:100%;height:0;padding-bottom:60%;\"><span style=\"color:#565656\">Make this Notebook Trusted to load map: File -> Trust Notebook</span><iframe src=\"about:blank\" style=\"position:absolute;width:100%;height:100%;left:0;top:0;border:none !important;\" data-html=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 onload=\"this.contentDocument.open();this.contentDocument.write(atob(this.getAttribute('data-html')));this.contentDocument.close();\" allowfullscreen webkitallowfullscreen mozallowfullscreen></iframe></div></div>"
      ],
      "text/plain": [
       "<folium.folium.Map at 0x7f84bd0b78b0>"
      ]
     },
     "execution_count": 29,
     "metadata": {},
     "output_type": "execute_result"
    }
   ],
   "source": [
    "# Replace None with appropriate code\n",
    "\n",
    "# Import the library\n",
    "import folium\n",
    "\n",
    "# Set up center latitude and longitude\n",
    "center_lat = response_json['region']['center']['latitude']\n",
    "center_long = response_json['region']['center']['longitude']\n",
    "\n",
    "# Initialize map with center lat and long\n",
    "yelp_map = folium.Map([center_lat,center_long],zoom_start=8)\n",
    "\n",
    "# Adjust this limit to see more or fewer businesses\n",
    "limit=100\n",
    "\n",
    "for business in full_dataset[:limit]:\n",
    "    # Extract information about business\n",
    "    lat = business['latitude']\n",
    "    long = business['longitude']\n",
    "    name = business['name']\n",
    "    rating = business['rating']\n",
    "    price = business['price']\n",
    "    details = \"{}\\nPrice: {} Rating:{}\".format(name,price,rating)\n",
    "    \n",
    "    # Create popup with relevant details\n",
    "    popup = folium.Popup(details, parse_html=True)\n",
    "    \n",
    "    # Create marker with relevant lat/long and popup\n",
    "    marker = folium.Marker(location=[lat,long], popup=popup)\n",
    "    \n",
    "    marker.add_to(yelp_map)\n",
    "    \n",
    "yelp_map"
   ]
  },
  {
   "cell_type": "markdown",
   "metadata": {},
   "source": [
    "## Summary\n",
    "\n",
    "Nice work! In this lab, you've made multiple API calls to Yelp in order to paginate through a results set, performing some basic exploratory analysis and then creating a nice interactive map to display the results using Folium! Well done!"
   ]
  }
 ],
 "metadata": {
  "kernelspec": {
   "display_name": "Python 3",
   "language": "python",
   "name": "python3"
  },
  "language_info": {
   "codemirror_mode": {
    "name": "ipython",
    "version": 3
   },
   "file_extension": ".py",
   "mimetype": "text/x-python",
   "name": "python",
   "nbconvert_exporter": "python",
   "pygments_lexer": "ipython3",
   "version": "3.8.5"
  },
  "toc": {
   "base_numbering": 1,
   "nav_menu": {},
   "number_sections": true,
   "sideBar": true,
   "skip_h1_title": false,
   "title_cell": "Table of Contents",
   "title_sidebar": "Contents",
   "toc_cell": false,
   "toc_position": {},
   "toc_section_display": true,
   "toc_window_display": false
  }
 },
 "nbformat": 4,
 "nbformat_minor": 2
}
